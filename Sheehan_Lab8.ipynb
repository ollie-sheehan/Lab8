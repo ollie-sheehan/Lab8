{
 "cells": [
  {
   "cell_type": "raw",
   "metadata": {},
   "source": [
    "---\n",
    "self_contained: true\n",
    "title: \"Lab 8: Cannabis Types\"\n",
    "format:\n",
    "    html:\n",
    "        theme: cerulean\n",
    "author: \"Oliver Sheehan\"\n",
    "date: \"12/4/2023\"\n",
    "embed-resources: true\n",
    "---"
   ]
  },
  {
   "cell_type": "code",
   "execution_count": null,
   "metadata": {
    "id": "lkPVoYfzbZTk"
   },
   "outputs": [],
   "source": [
    "import pandas as pd\n",
    "import numpy as np\n",
    "from sklearn.pipeline import Pipeline\n",
    "from sklearn.neighbors import KNeighborsClassifier\n",
    "from sklearn.tree import DecisionTreeClassifier, plot_tree\n",
    "from sklearn.linear_model import LogisticRegression\n",
    "from sklearn.compose import ColumnTransformer, make_column_selector\n",
    "from sklearn.preprocessing import OneHotEncoder, StandardScaler\n",
    "from sklearn.model_selection import GridSearchCV\n",
    "from sklearn.model_selection import cross_val_score\n",
    "import matplotlib.pyplot as plt\n",
    "from sklearn.discriminant_analysis import LinearDiscriminantAnalysis\n",
    "from sklearn.metrics import confusion_matrix\n",
    "from sklearn.discriminant_analysis import QuadraticDiscriminantAnalysis\n",
    "from sklearn.svm import SVC"
   ]
  },
  {
   "cell_type": "markdown",
   "metadata": {
    "id": "0Is_VuIWh3pi"
   },
   "source": [
    "**Read in Data**"
   ]
  },
  {
   "cell_type": "code",
   "execution_count": null,
   "metadata": {
    "colab": {
     "base_uri": "https://localhost:8080/",
     "height": 342
    },
    "id": "klZHXQSAhw1R",
    "outputId": "4e48cd0c-5131-40bf-a8b4-18d824eeb084"
   },
   "outputs": [
    {
     "data": {
      "text/html": [
       "\n",
       "  <div id=\"df-8e5bd7b3-af42-4ea5-98d2-e4f0389bcfea\" class=\"colab-df-container\">\n",
       "    <div>\n",
       "<style scoped>\n",
       "    .dataframe tbody tr th:only-of-type {\n",
       "        vertical-align: middle;\n",
       "    }\n",
       "\n",
       "    .dataframe tbody tr th {\n",
       "        vertical-align: top;\n",
       "    }\n",
       "\n",
       "    .dataframe thead th {\n",
       "        text-align: right;\n",
       "    }\n",
       "</style>\n",
       "<table border=\"1\" class=\"dataframe\">\n",
       "  <thead>\n",
       "    <tr style=\"text-align: right;\">\n",
       "      <th></th>\n",
       "      <th>Strain</th>\n",
       "      <th>Type</th>\n",
       "      <th>Rating</th>\n",
       "      <th>Effects</th>\n",
       "      <th>Flavor</th>\n",
       "      <th>Creative</th>\n",
       "      <th>Energetic</th>\n",
       "      <th>Tingly</th>\n",
       "      <th>Euphoric</th>\n",
       "      <th>Relaxed</th>\n",
       "      <th>...</th>\n",
       "      <th>Ammonia</th>\n",
       "      <th>Minty</th>\n",
       "      <th>Tree</th>\n",
       "      <th>Fruit</th>\n",
       "      <th>Butter</th>\n",
       "      <th>Pineapple</th>\n",
       "      <th>Tar</th>\n",
       "      <th>Rose</th>\n",
       "      <th>Plum</th>\n",
       "      <th>Pear</th>\n",
       "    </tr>\n",
       "  </thead>\n",
       "  <tbody>\n",
       "    <tr>\n",
       "      <th>0</th>\n",
       "      <td>100-Og</td>\n",
       "      <td>hybrid</td>\n",
       "      <td>4.0</td>\n",
       "      <td>Creative,Energetic,Tingly,Euphoric,Relaxed</td>\n",
       "      <td>Earthy,Sweet,Citrus</td>\n",
       "      <td>1.0</td>\n",
       "      <td>1.0</td>\n",
       "      <td>1.0</td>\n",
       "      <td>1.0</td>\n",
       "      <td>1.0</td>\n",
       "      <td>...</td>\n",
       "      <td>0.0</td>\n",
       "      <td>0.0</td>\n",
       "      <td>0.0</td>\n",
       "      <td>0.0</td>\n",
       "      <td>0.0</td>\n",
       "      <td>0.0</td>\n",
       "      <td>0.0</td>\n",
       "      <td>0.0</td>\n",
       "      <td>0.0</td>\n",
       "      <td>0.0</td>\n",
       "    </tr>\n",
       "    <tr>\n",
       "      <th>1</th>\n",
       "      <td>98-White-Widow</td>\n",
       "      <td>hybrid</td>\n",
       "      <td>4.7</td>\n",
       "      <td>Relaxed,Aroused,Creative,Happy,Energetic</td>\n",
       "      <td>Flowery,Violet,Diesel</td>\n",
       "      <td>1.0</td>\n",
       "      <td>1.0</td>\n",
       "      <td>0.0</td>\n",
       "      <td>0.0</td>\n",
       "      <td>1.0</td>\n",
       "      <td>...</td>\n",
       "      <td>0.0</td>\n",
       "      <td>0.0</td>\n",
       "      <td>0.0</td>\n",
       "      <td>0.0</td>\n",
       "      <td>0.0</td>\n",
       "      <td>0.0</td>\n",
       "      <td>0.0</td>\n",
       "      <td>0.0</td>\n",
       "      <td>0.0</td>\n",
       "      <td>0.0</td>\n",
       "    </tr>\n",
       "    <tr>\n",
       "      <th>2</th>\n",
       "      <td>1024</td>\n",
       "      <td>sativa</td>\n",
       "      <td>4.4</td>\n",
       "      <td>Uplifted,Happy,Relaxed,Energetic,Creative</td>\n",
       "      <td>Spicy/Herbal,Sage,Woody</td>\n",
       "      <td>1.0</td>\n",
       "      <td>1.0</td>\n",
       "      <td>0.0</td>\n",
       "      <td>0.0</td>\n",
       "      <td>1.0</td>\n",
       "      <td>...</td>\n",
       "      <td>0.0</td>\n",
       "      <td>0.0</td>\n",
       "      <td>0.0</td>\n",
       "      <td>0.0</td>\n",
       "      <td>0.0</td>\n",
       "      <td>0.0</td>\n",
       "      <td>0.0</td>\n",
       "      <td>0.0</td>\n",
       "      <td>0.0</td>\n",
       "      <td>0.0</td>\n",
       "    </tr>\n",
       "    <tr>\n",
       "      <th>3</th>\n",
       "      <td>13-Dawgs</td>\n",
       "      <td>hybrid</td>\n",
       "      <td>4.2</td>\n",
       "      <td>Tingly,Creative,Hungry,Relaxed,Uplifted</td>\n",
       "      <td>Apricot,Citrus,Grapefruit</td>\n",
       "      <td>1.0</td>\n",
       "      <td>0.0</td>\n",
       "      <td>1.0</td>\n",
       "      <td>0.0</td>\n",
       "      <td>1.0</td>\n",
       "      <td>...</td>\n",
       "      <td>0.0</td>\n",
       "      <td>0.0</td>\n",
       "      <td>0.0</td>\n",
       "      <td>0.0</td>\n",
       "      <td>0.0</td>\n",
       "      <td>0.0</td>\n",
       "      <td>0.0</td>\n",
       "      <td>0.0</td>\n",
       "      <td>0.0</td>\n",
       "      <td>0.0</td>\n",
       "    </tr>\n",
       "    <tr>\n",
       "      <th>4</th>\n",
       "      <td>24K-Gold</td>\n",
       "      <td>hybrid</td>\n",
       "      <td>4.6</td>\n",
       "      <td>Happy,Relaxed,Euphoric,Uplifted,Talkative</td>\n",
       "      <td>Citrus,Earthy,Orange</td>\n",
       "      <td>0.0</td>\n",
       "      <td>0.0</td>\n",
       "      <td>0.0</td>\n",
       "      <td>1.0</td>\n",
       "      <td>1.0</td>\n",
       "      <td>...</td>\n",
       "      <td>0.0</td>\n",
       "      <td>0.0</td>\n",
       "      <td>0.0</td>\n",
       "      <td>0.0</td>\n",
       "      <td>0.0</td>\n",
       "      <td>0.0</td>\n",
       "      <td>0.0</td>\n",
       "      <td>0.0</td>\n",
       "      <td>0.0</td>\n",
       "      <td>0.0</td>\n",
       "    </tr>\n",
       "  </tbody>\n",
       "</table>\n",
       "<p>5 rows × 69 columns</p>\n",
       "</div>\n",
       "    <div class=\"colab-df-buttons\">\n",
       "\n",
       "  <div class=\"colab-df-container\">\n",
       "    <button class=\"colab-df-convert\" onclick=\"convertToInteractive('df-8e5bd7b3-af42-4ea5-98d2-e4f0389bcfea')\"\n",
       "            title=\"Convert this dataframe to an interactive table.\"\n",
       "            style=\"display:none;\">\n",
       "\n",
       "  <svg xmlns=\"http://www.w3.org/2000/svg\" height=\"24px\" viewBox=\"0 -960 960 960\">\n",
       "    <path d=\"M120-120v-720h720v720H120Zm60-500h600v-160H180v160Zm220 220h160v-160H400v160Zm0 220h160v-160H400v160ZM180-400h160v-160H180v160Zm440 0h160v-160H620v160ZM180-180h160v-160H180v160Zm440 0h160v-160H620v160Z\"/>\n",
       "  </svg>\n",
       "    </button>\n",
       "\n",
       "  <style>\n",
       "    .colab-df-container {\n",
       "      display:flex;\n",
       "      gap: 12px;\n",
       "    }\n",
       "\n",
       "    .colab-df-convert {\n",
       "      background-color: #E8F0FE;\n",
       "      border: none;\n",
       "      border-radius: 50%;\n",
       "      cursor: pointer;\n",
       "      display: none;\n",
       "      fill: #1967D2;\n",
       "      height: 32px;\n",
       "      padding: 0 0 0 0;\n",
       "      width: 32px;\n",
       "    }\n",
       "\n",
       "    .colab-df-convert:hover {\n",
       "      background-color: #E2EBFA;\n",
       "      box-shadow: 0px 1px 2px rgba(60, 64, 67, 0.3), 0px 1px 3px 1px rgba(60, 64, 67, 0.15);\n",
       "      fill: #174EA6;\n",
       "    }\n",
       "\n",
       "    .colab-df-buttons div {\n",
       "      margin-bottom: 4px;\n",
       "    }\n",
       "\n",
       "    [theme=dark] .colab-df-convert {\n",
       "      background-color: #3B4455;\n",
       "      fill: #D2E3FC;\n",
       "    }\n",
       "\n",
       "    [theme=dark] .colab-df-convert:hover {\n",
       "      background-color: #434B5C;\n",
       "      box-shadow: 0px 1px 3px 1px rgba(0, 0, 0, 0.15);\n",
       "      filter: drop-shadow(0px 1px 2px rgba(0, 0, 0, 0.3));\n",
       "      fill: #FFFFFF;\n",
       "    }\n",
       "  </style>\n",
       "\n",
       "    <script>\n",
       "      const buttonEl =\n",
       "        document.querySelector('#df-8e5bd7b3-af42-4ea5-98d2-e4f0389bcfea button.colab-df-convert');\n",
       "      buttonEl.style.display =\n",
       "        google.colab.kernel.accessAllowed ? 'block' : 'none';\n",
       "\n",
       "      async function convertToInteractive(key) {\n",
       "        const element = document.querySelector('#df-8e5bd7b3-af42-4ea5-98d2-e4f0389bcfea');\n",
       "        const dataTable =\n",
       "          await google.colab.kernel.invokeFunction('convertToInteractive',\n",
       "                                                    [key], {});\n",
       "        if (!dataTable) return;\n",
       "\n",
       "        const docLinkHtml = 'Like what you see? Visit the ' +\n",
       "          '<a target=\"_blank\" href=https://colab.research.google.com/notebooks/data_table.ipynb>data table notebook</a>'\n",
       "          + ' to learn more about interactive tables.';\n",
       "        element.innerHTML = '';\n",
       "        dataTable['output_type'] = 'display_data';\n",
       "        await google.colab.output.renderOutput(dataTable, element);\n",
       "        const docLink = document.createElement('div');\n",
       "        docLink.innerHTML = docLinkHtml;\n",
       "        element.appendChild(docLink);\n",
       "      }\n",
       "    </script>\n",
       "  </div>\n",
       "\n",
       "\n",
       "<div id=\"df-d569934d-80ac-4273-b036-5d40145eb4a6\">\n",
       "  <button class=\"colab-df-quickchart\" onclick=\"quickchart('df-d569934d-80ac-4273-b036-5d40145eb4a6')\"\n",
       "            title=\"Suggest charts\"\n",
       "            style=\"display:none;\">\n",
       "\n",
       "<svg xmlns=\"http://www.w3.org/2000/svg\" height=\"24px\"viewBox=\"0 0 24 24\"\n",
       "     width=\"24px\">\n",
       "    <g>\n",
       "        <path d=\"M19 3H5c-1.1 0-2 .9-2 2v14c0 1.1.9 2 2 2h14c1.1 0 2-.9 2-2V5c0-1.1-.9-2-2-2zM9 17H7v-7h2v7zm4 0h-2V7h2v10zm4 0h-2v-4h2v4z\"/>\n",
       "    </g>\n",
       "</svg>\n",
       "  </button>\n",
       "\n",
       "<style>\n",
       "  .colab-df-quickchart {\n",
       "      --bg-color: #E8F0FE;\n",
       "      --fill-color: #1967D2;\n",
       "      --hover-bg-color: #E2EBFA;\n",
       "      --hover-fill-color: #174EA6;\n",
       "      --disabled-fill-color: #AAA;\n",
       "      --disabled-bg-color: #DDD;\n",
       "  }\n",
       "\n",
       "  [theme=dark] .colab-df-quickchart {\n",
       "      --bg-color: #3B4455;\n",
       "      --fill-color: #D2E3FC;\n",
       "      --hover-bg-color: #434B5C;\n",
       "      --hover-fill-color: #FFFFFF;\n",
       "      --disabled-bg-color: #3B4455;\n",
       "      --disabled-fill-color: #666;\n",
       "  }\n",
       "\n",
       "  .colab-df-quickchart {\n",
       "    background-color: var(--bg-color);\n",
       "    border: none;\n",
       "    border-radius: 50%;\n",
       "    cursor: pointer;\n",
       "    display: none;\n",
       "    fill: var(--fill-color);\n",
       "    height: 32px;\n",
       "    padding: 0;\n",
       "    width: 32px;\n",
       "  }\n",
       "\n",
       "  .colab-df-quickchart:hover {\n",
       "    background-color: var(--hover-bg-color);\n",
       "    box-shadow: 0 1px 2px rgba(60, 64, 67, 0.3), 0 1px 3px 1px rgba(60, 64, 67, 0.15);\n",
       "    fill: var(--button-hover-fill-color);\n",
       "  }\n",
       "\n",
       "  .colab-df-quickchart-complete:disabled,\n",
       "  .colab-df-quickchart-complete:disabled:hover {\n",
       "    background-color: var(--disabled-bg-color);\n",
       "    fill: var(--disabled-fill-color);\n",
       "    box-shadow: none;\n",
       "  }\n",
       "\n",
       "  .colab-df-spinner {\n",
       "    border: 2px solid var(--fill-color);\n",
       "    border-color: transparent;\n",
       "    border-bottom-color: var(--fill-color);\n",
       "    animation:\n",
       "      spin 1s steps(1) infinite;\n",
       "  }\n",
       "\n",
       "  @keyframes spin {\n",
       "    0% {\n",
       "      border-color: transparent;\n",
       "      border-bottom-color: var(--fill-color);\n",
       "      border-left-color: var(--fill-color);\n",
       "    }\n",
       "    20% {\n",
       "      border-color: transparent;\n",
       "      border-left-color: var(--fill-color);\n",
       "      border-top-color: var(--fill-color);\n",
       "    }\n",
       "    30% {\n",
       "      border-color: transparent;\n",
       "      border-left-color: var(--fill-color);\n",
       "      border-top-color: var(--fill-color);\n",
       "      border-right-color: var(--fill-color);\n",
       "    }\n",
       "    40% {\n",
       "      border-color: transparent;\n",
       "      border-right-color: var(--fill-color);\n",
       "      border-top-color: var(--fill-color);\n",
       "    }\n",
       "    60% {\n",
       "      border-color: transparent;\n",
       "      border-right-color: var(--fill-color);\n",
       "    }\n",
       "    80% {\n",
       "      border-color: transparent;\n",
       "      border-right-color: var(--fill-color);\n",
       "      border-bottom-color: var(--fill-color);\n",
       "    }\n",
       "    90% {\n",
       "      border-color: transparent;\n",
       "      border-bottom-color: var(--fill-color);\n",
       "    }\n",
       "  }\n",
       "</style>\n",
       "\n",
       "  <script>\n",
       "    async function quickchart(key) {\n",
       "      const quickchartButtonEl =\n",
       "        document.querySelector('#' + key + ' button');\n",
       "      quickchartButtonEl.disabled = true;  // To prevent multiple clicks.\n",
       "      quickchartButtonEl.classList.add('colab-df-spinner');\n",
       "      try {\n",
       "        const charts = await google.colab.kernel.invokeFunction(\n",
       "            'suggestCharts', [key], {});\n",
       "      } catch (error) {\n",
       "        console.error('Error during call to suggestCharts:', error);\n",
       "      }\n",
       "      quickchartButtonEl.classList.remove('colab-df-spinner');\n",
       "      quickchartButtonEl.classList.add('colab-df-quickchart-complete');\n",
       "    }\n",
       "    (() => {\n",
       "      let quickchartButtonEl =\n",
       "        document.querySelector('#df-d569934d-80ac-4273-b036-5d40145eb4a6 button');\n",
       "      quickchartButtonEl.style.display =\n",
       "        google.colab.kernel.accessAllowed ? 'block' : 'none';\n",
       "    })();\n",
       "  </script>\n",
       "</div>\n",
       "    </div>\n",
       "  </div>\n"
      ],
      "text/plain": [
       "           Strain    Type  Rating                                     Effects  \\\n",
       "0          100-Og  hybrid     4.0  Creative,Energetic,Tingly,Euphoric,Relaxed   \n",
       "1  98-White-Widow  hybrid     4.7    Relaxed,Aroused,Creative,Happy,Energetic   \n",
       "2            1024  sativa     4.4   Uplifted,Happy,Relaxed,Energetic,Creative   \n",
       "3        13-Dawgs  hybrid     4.2     Tingly,Creative,Hungry,Relaxed,Uplifted   \n",
       "4        24K-Gold  hybrid     4.6   Happy,Relaxed,Euphoric,Uplifted,Talkative   \n",
       "\n",
       "                      Flavor  Creative  Energetic  Tingly  Euphoric  Relaxed  \\\n",
       "0        Earthy,Sweet,Citrus       1.0        1.0     1.0       1.0      1.0   \n",
       "1      Flowery,Violet,Diesel       1.0        1.0     0.0       0.0      1.0   \n",
       "2    Spicy/Herbal,Sage,Woody       1.0        1.0     0.0       0.0      1.0   \n",
       "3  Apricot,Citrus,Grapefruit       1.0        0.0     1.0       0.0      1.0   \n",
       "4       Citrus,Earthy,Orange       0.0        0.0     0.0       1.0      1.0   \n",
       "\n",
       "   ...  Ammonia  Minty  Tree  Fruit  Butter  Pineapple  Tar  Rose  Plum  Pear  \n",
       "0  ...      0.0    0.0   0.0    0.0     0.0        0.0  0.0   0.0   0.0   0.0  \n",
       "1  ...      0.0    0.0   0.0    0.0     0.0        0.0  0.0   0.0   0.0   0.0  \n",
       "2  ...      0.0    0.0   0.0    0.0     0.0        0.0  0.0   0.0   0.0   0.0  \n",
       "3  ...      0.0    0.0   0.0    0.0     0.0        0.0  0.0   0.0   0.0   0.0  \n",
       "4  ...      0.0    0.0   0.0    0.0     0.0        0.0  0.0   0.0   0.0   0.0  \n",
       "\n",
       "[5 rows x 69 columns]"
      ]
     },
     "execution_count": 4,
     "metadata": {},
     "output_type": "execute_result"
    }
   ],
   "source": [
    "weed = pd.read_csv(\"https://www.dropbox.com/s/s2a1uoiegitupjc/cannabis_full.csv?dl=1\")\n",
    "weed.head()"
   ]
  },
  {
   "cell_type": "code",
   "execution_count": null,
   "metadata": {
    "id": "u1aaFKaSiLTP"
   },
   "outputs": [],
   "source": [
    "weed.info()"
   ]
  },
  {
   "cell_type": "code",
   "execution_count": null,
   "metadata": {
    "id": "NtY7Npf_iNt4"
   },
   "outputs": [],
   "source": [
    "weed = weed.dropna()"
   ]
  },
  {
   "cell_type": "markdown",
   "metadata": {
    "id": "p5Tsw2C1hIYh"
   },
   "source": [
    "***Part One: Binary Classification***\n",
    "\n",
    "Create a dataset that is limited only to the Sativa and Indica type cannabis strains.\n",
    "\n",
    "This section asks you to create a final best model for each of the four new model types studied this week: LDA, QDA, SVC, and SVM. For SVM, you may limit yourself to only the polynomial kernel.\n",
    "\n",
    "For each, you should:\n",
    "\n",
    "* Choose a metric you will use to select your model, and briefly justify your choice. (Hint: There is no specific target category here, so this should not be a metric that only prioritizes one category.)\n",
    "\n",
    "* Find the best model for predicting the Type variable. Don’t forget to tune any hyperparameters.\n",
    "\n",
    "* Report the (cross-validated!) metric.\n",
    "\n",
    "* Fit the final model.\n",
    "\n",
    "* Output a confusion matrix."
   ]
  },
  {
   "cell_type": "code",
   "execution_count": null,
   "metadata": {
    "id": "JWar8pLvlmWm"
   },
   "outputs": [],
   "source": [
    "weed = weed.drop(['Flavor', 'Effects', 'Strain'], axis=1)"
   ]
  },
  {
   "cell_type": "code",
   "execution_count": null,
   "metadata": {
    "id": "uaKDvaf0lFml"
   },
   "outputs": [],
   "source": [
    "indtiva = weed[weed['Type'].isin(['sativa', 'indica'])]\n",
    "X = indtiva.drop(['Type'], axis = 1)\n",
    "y = indtiva['Type']"
   ]
  },
  {
   "cell_type": "markdown",
   "metadata": {
    "id": "EBoa0mueilIv"
   },
   "source": [
    "**Q1: LDA**"
   ]
  },
  {
   "cell_type": "code",
   "execution_count": null,
   "metadata": {
    "colab": {
     "base_uri": "https://localhost:8080/"
    },
    "id": "cFPWrPH6iocm",
    "outputId": "0da87f32-2ec6-4d6c-9011-be653f8f76d9"
   },
   "outputs": [
    {
     "name": "stdout",
     "output_type": "stream",
     "text": [
      "LDA Accuracy: 0.8425808776425369\n"
     ]
    }
   ],
   "source": [
    "ct = ColumnTransformer(\n",
    "    [\n",
    "        (\"dummify\", OneHotEncoder(sparse_output=False, handle_unknown='ignore'),\n",
    "         make_column_selector(dtype_include=['category', 'object']))\n",
    "    ],\n",
    "    remainder=\"passthrough\"\n",
    ")\n",
    "\n",
    "lda_pipeline = Pipeline([\n",
    "  (\"preprocessing\", ct),\n",
    "  (\"LDA\", LinearDiscriminantAnalysis())]\n",
    ")\n",
    "lda_pipeline_fitted = lda_pipeline.fit(X,y)\n",
    "lda_accuracy = cross_val_score(lda_pipeline_fitted, X, y, cv=5, scoring='accuracy').mean()\n",
    "print(f\"LDA Accuracy: {lda_accuracy}\")"
   ]
  },
  {
   "cell_type": "code",
   "execution_count": null,
   "metadata": {
    "colab": {
     "base_uri": "https://localhost:8080/"
    },
    "id": "vZdEUEkKnDGk",
    "outputId": "25753867-86e9-4ba9-bf4e-747f6e8d7e01"
   },
   "outputs": [
    {
     "name": "stdout",
     "output_type": "stream",
     "text": [
      "LDA Confusion Matrix:\n"
     ]
    },
    {
     "data": {
      "text/plain": [
       "array([[627,  60],\n",
       "       [ 86, 345]])"
      ]
     },
     "execution_count": 10,
     "metadata": {},
     "output_type": "execute_result"
    }
   ],
   "source": [
    "y_pred = lda_pipeline_fitted.predict(X)\n",
    "print(\"LDA Confusion Matrix:\")\n",
    "confusion_matrix(y, y_pred)"
   ]
  },
  {
   "cell_type": "markdown",
   "metadata": {
    "id": "j_MFma3ynl78"
   },
   "source": [
    "**Q2: QDA**"
   ]
  },
  {
   "cell_type": "code",
   "execution_count": null,
   "metadata": {
    "colab": {
     "base_uri": "https://localhost:8080/"
    },
    "id": "RBXjs4V5njyn",
    "outputId": "097f1b92-298e-49b3-ae88-428d2ff95c60"
   },
   "outputs": [
    {
     "name": "stderr",
     "output_type": "stream",
     "text": [
      "/usr/local/lib/python3.10/dist-packages/sklearn/discriminant_analysis.py:926: UserWarning: Variables are collinear\n",
      "  warnings.warn(\"Variables are collinear\")\n",
      "/usr/local/lib/python3.10/dist-packages/sklearn/discriminant_analysis.py:926: UserWarning: Variables are collinear\n",
      "  warnings.warn(\"Variables are collinear\")\n",
      "/usr/local/lib/python3.10/dist-packages/sklearn/discriminant_analysis.py:926: UserWarning: Variables are collinear\n",
      "  warnings.warn(\"Variables are collinear\")\n",
      "/usr/local/lib/python3.10/dist-packages/sklearn/discriminant_analysis.py:926: UserWarning: Variables are collinear\n",
      "  warnings.warn(\"Variables are collinear\")\n",
      "/usr/local/lib/python3.10/dist-packages/sklearn/discriminant_analysis.py:926: UserWarning: Variables are collinear\n",
      "  warnings.warn(\"Variables are collinear\")\n",
      "/usr/local/lib/python3.10/dist-packages/sklearn/discriminant_analysis.py:926: UserWarning: Variables are collinear\n",
      "  warnings.warn(\"Variables are collinear\")\n"
     ]
    }
   ],
   "source": [
    "qda_pipeline = Pipeline([\n",
    "  (\"preprocessing\", ct),\n",
    "  (\"QDA\", QuadraticDiscriminantAnalysis())]\n",
    ")\n",
    "\n",
    "qda_pipeline_fitted = qda_pipeline.fit(X,y)\n",
    "qda_accuracy = cross_val_score(qda_pipeline_fitted, X, y, cv=5, scoring='accuracy').mean()"
   ]
  },
  {
   "cell_type": "code",
   "execution_count": null,
   "metadata": {
    "colab": {
     "base_uri": "https://localhost:8080/"
    },
    "id": "bgCSQuqao45K",
    "outputId": "39639734-0676-48d1-a264-481a444040dd"
   },
   "outputs": [
    {
     "name": "stdout",
     "output_type": "stream",
     "text": [
      "QDA Accuracy: 0.4141295643818065\n"
     ]
    }
   ],
   "source": [
    "print(f\"QDA Accuracy: {qda_accuracy}\")"
   ]
  },
  {
   "cell_type": "code",
   "execution_count": null,
   "metadata": {
    "colab": {
     "base_uri": "https://localhost:8080/"
    },
    "id": "ONIvOydoo8Qa",
    "outputId": "353e34dd-c4f2-48ec-b9cb-44598aa18a99"
   },
   "outputs": [
    {
     "name": "stdout",
     "output_type": "stream",
     "text": [
      "QDA Confusion Matrix:\n"
     ]
    },
    {
     "data": {
      "text/plain": [
       "array([[ 27, 660],\n",
       "       [  0, 431]])"
      ]
     },
     "execution_count": 13,
     "metadata": {},
     "output_type": "execute_result"
    }
   ],
   "source": [
    "y_pred = qda_pipeline_fitted.predict(X)\n",
    "print(\"QDA Confusion Matrix:\")\n",
    "confusion_matrix(y, y_pred)"
   ]
  },
  {
   "cell_type": "markdown",
   "metadata": {
    "id": "5XvU3e1cpQn9"
   },
   "source": [
    "**Q3: SVC**"
   ]
  },
  {
   "cell_type": "code",
   "execution_count": null,
   "metadata": {
    "colab": {
     "base_uri": "https://localhost:8080/"
    },
    "id": "baqzD1YUpTWa",
    "outputId": "9cb150a3-0f6d-4f26-df74-1aa2a84bf4fc"
   },
   "outputs": [
    {
     "name": "stdout",
     "output_type": "stream",
     "text": [
      "Best Accuracy Score: 0.8577874759769377\n",
      "Corresponding C-Value: 3\n"
     ]
    }
   ],
   "source": [
    "svc_pipeline = Pipeline([\n",
    "    (\"preprocessing\", ct),\n",
    "    (\"svc\", SVC())])\n",
    "\n",
    "c_values = [2,3,4]\n",
    "c_param = {'svc__C': c_values}\n",
    "gscv = GridSearchCV(svc_pipeline, c_param, cv = 5, scoring='accuracy')\n",
    "\n",
    "gscv_fitted = gscv.fit(X,y)\n",
    "best_accuracy = np.max(gscv_fitted.cv_results_['mean_test_score'])\n",
    "best_c_value = gscv_fitted.best_params_['svc__C']\n",
    "print(\"Best Accuracy Score:\", best_accuracy)\n",
    "print(\"Corresponding C-Value:\", best_c_value)"
   ]
  },
  {
   "cell_type": "code",
   "execution_count": null,
   "metadata": {
    "colab": {
     "base_uri": "https://localhost:8080/"
    },
    "id": "1VISHfCArwds",
    "outputId": "4296a8b5-6d00-4459-e41a-268426fc2c56"
   },
   "outputs": [
    {
     "name": "stdout",
     "output_type": "stream",
     "text": [
      "SVC Accuracy: 0.8577874759769377\n"
     ]
    }
   ],
   "source": [
    "svc_pipeline = Pipeline([\n",
    "    (\"preprocessing\", ct),\n",
    "    (\"svc\", SVC(C=3))])\n",
    "\n",
    "svc_accuracy = cross_val_score(svc_pipeline, X, y, cv=5, scoring='accuracy').mean()\n",
    "print(f\"SVC Accuracy: {svc_accuracy}\")"
   ]
  },
  {
   "cell_type": "code",
   "execution_count": null,
   "metadata": {
    "colab": {
     "base_uri": "https://localhost:8080/"
    },
    "id": "3Ea3f7wXtriJ",
    "outputId": "a464a05b-9be6-439a-da3a-408c5ebbf94b"
   },
   "outputs": [
    {
     "name": "stdout",
     "output_type": "stream",
     "text": [
      "SVC Confusion Matrix:\n"
     ]
    },
    {
     "data": {
      "text/plain": [
       "array([[641,  46],\n",
       "       [ 72, 359]])"
      ]
     },
     "execution_count": 16,
     "metadata": {},
     "output_type": "execute_result"
    }
   ],
   "source": [
    "svc_pipeline_fitted = svc_pipeline.fit(X,y)\n",
    "y_pred = svc_pipeline_fitted.predict(X)\n",
    "print(\"SVC Confusion Matrix:\")\n",
    "confusion_matrix(y, y_pred)"
   ]
  },
  {
   "cell_type": "markdown",
   "metadata": {
    "id": "uzOgTVBYsSKl"
   },
   "source": [
    "**Q4: SVM**"
   ]
  },
  {
   "cell_type": "code",
   "execution_count": null,
   "metadata": {
    "colab": {
     "base_uri": "https://localhost:8080/"
    },
    "id": "qYhG7SSHsU63",
    "outputId": "f7e526d4-1d19-4549-ea4b-9c50731ec9b3"
   },
   "outputs": [
    {
     "name": "stdout",
     "output_type": "stream",
     "text": [
      "Best Accuracy Score: 0.8577914798206278\n",
      "Corresponding C-Value: 0.7\n"
     ]
    }
   ],
   "source": [
    "svm_pipeline = Pipeline([\n",
    "    (\"preprocessing\", ct),\n",
    "    (\"svm\", SVC(kernel = 'poly'))])\n",
    "\n",
    "c_values = [.6,.7,.8]\n",
    "c_param = {'svm__C': c_values}\n",
    "gscv = GridSearchCV(svm_pipeline, c_param, cv = 5, scoring='accuracy')\n",
    "\n",
    "gscv_fitted = gscv.fit(X,y)\n",
    "best_accuracy = np.max(gscv_fitted.cv_results_['mean_test_score'])\n",
    "best_c_value = gscv_fitted.best_params_['svm__C']\n",
    "print(\"Best Accuracy Score:\", best_accuracy)\n",
    "print(\"Corresponding C-Value:\", best_c_value)"
   ]
  },
  {
   "cell_type": "code",
   "execution_count": null,
   "metadata": {
    "colab": {
     "base_uri": "https://localhost:8080/"
    },
    "id": "bxpBCnNltMgN",
    "outputId": "e197e3e8-e084-433f-94c0-a50a8f8e54a5"
   },
   "outputs": [
    {
     "name": "stdout",
     "output_type": "stream",
     "text": [
      "SVM Accuracy: 0.8577914798206278\n"
     ]
    }
   ],
   "source": [
    "svm_pipeline = Pipeline([\n",
    "    (\"preprocessing\", ct),\n",
    "    (\"svm\", SVC(C=.7, kernel = 'poly'))])\n",
    "\n",
    "svm_accuracy = cross_val_score(svm_pipeline, X, y, cv=5, scoring='accuracy').mean()\n",
    "print(f\"SVM Accuracy: {svm_accuracy}\")"
   ]
  },
  {
   "cell_type": "code",
   "execution_count": null,
   "metadata": {
    "colab": {
     "base_uri": "https://localhost:8080/"
    },
    "id": "DRVM3Gnqtxl5",
    "outputId": "5bf608eb-1a0f-49fb-9bcd-46b10172f91a"
   },
   "outputs": [
    {
     "name": "stdout",
     "output_type": "stream",
     "text": [
      "SVM Confusion Matrix:\n"
     ]
    },
    {
     "data": {
      "text/plain": [
       "array([[646,  41],\n",
       "       [ 92, 339]])"
      ]
     },
     "execution_count": 19,
     "metadata": {},
     "output_type": "execute_result"
    }
   ],
   "source": [
    "svm_pipeline_fitted = svm_pipeline.fit(X,y)\n",
    "y_pred = svm_pipeline_fitted.predict(X)\n",
    "print(\"SVM Confusion Matrix:\")\n",
    "confusion_matrix(y, y_pred)"
   ]
  },
  {
   "cell_type": "markdown",
   "metadata": {
    "id": "V_s3uoXgt4be"
   },
   "source": [
    "***Part Two: Natural Multiclass***\n",
    "\n",
    "Now use the full dataset, including the Hybrid strains."
   ]
  },
  {
   "cell_type": "code",
   "execution_count": null,
   "metadata": {
    "id": "PcAVk9a1uGve"
   },
   "outputs": [],
   "source": [
    "X = weed.drop(['Type'],axis=1)\n",
    "y = weed['Type']"
   ]
  },
  {
   "cell_type": "markdown",
   "metadata": {
    "id": "g8m-Azi1uMNK"
   },
   "source": [
    "**Q1**\n",
    "\n",
    "Fit a decision tree, plot the final fit, and interpret the results."
   ]
  },
  {
   "cell_type": "code",
   "execution_count": null,
   "metadata": {
    "colab": {
     "base_uri": "https://localhost:8080/"
    },
    "id": "fuZH8u-RuH5X",
    "outputId": "f7c86f5a-b203-4f21-b7c7-08fa8e8e79c3"
   },
   "outputs": [
    {
     "name": "stdout",
     "output_type": "stream",
     "text": [
      "Best Accuracy Score: 0.6212581344902386\n",
      "Corresponding min_samples_leaf: 60\n"
     ]
    }
   ],
   "source": [
    "dt_pipeline = Pipeline([\n",
    "    (\"preprocessing\", ct),\n",
    "    (\"decision_tree\", DecisionTreeClassifier())\n",
    "])\n",
    "\n",
    "leaf_values = [59, 60, 61]\n",
    "leaf_param = {\n",
    "    'decision_tree__min_samples_leaf': leaf_values}\n",
    "\n",
    "gscv = GridSearchCV(dt_pipeline, leaf_param, cv=5, scoring='accuracy')\n",
    "gscv.fit(X, y)\n",
    "acc_scores = gscv.cv_results_['mean_test_score']\n",
    "\n",
    "best_accuracy = np.max(gscv.cv_results_['mean_test_score'])\n",
    "best_min_samples_leaf = gscv.best_params_['decision_tree__min_samples_leaf']\n",
    "print(\"Best Accuracy Score:\", best_accuracy)\n",
    "print(\"Corresponding min_samples_leaf:\", best_min_samples_leaf)"
   ]
  },
  {
   "cell_type": "code",
   "execution_count": null,
   "metadata": {
    "colab": {
     "base_uri": "https://localhost:8080/"
    },
    "id": "8je9YMNAvBM9",
    "outputId": "89e22393-236e-43bb-a536-815fa7cd9781"
   },
   "outputs": [
    {
     "name": "stdout",
     "output_type": "stream",
     "text": [
      "DT Accuracy: 0.6195227765726681\n"
     ]
    }
   ],
   "source": [
    "dt_pipeline = Pipeline([\n",
    "    (\"preprocessing\", ct),\n",
    "    (\"decision_tree\", DecisionTreeClassifier(max_depth = 3, min_samples_leaf=60))\n",
    "])\n",
    "\n",
    "dt_pipeline_fitted = dt_pipeline.fit(X,y)\n",
    "dt_accuracy = cross_val_score(dt_pipeline_fitted, X, y, cv=5, scoring='accuracy').mean()\n",
    "print(f\"DT Accuracy: {dt_accuracy}\")"
   ]
  },
  {
   "cell_type": "code",
   "execution_count": null,
   "metadata": {
    "colab": {
     "base_uri": "https://localhost:8080/",
     "height": 406
    },
    "id": "k9HevqatvZge",
    "outputId": "48422a5f-0121-4d66-f56f-f03381d9377f"
   },
   "outputs": [
    {
     "data": {
      "image/png": "[encoded data removed]",
      "text/plain": [
       "<Figure size 1500x900 with 1 Axes>"
      ]
     },
     "metadata": {},
     "output_type": "display_data"
    }
   ],
   "source": [
    "plt.figure(figsize=(15, 9))\n",
    "plot_tree(dt_pipeline_fitted.named_steps[\"decision_tree\"], feature_names=X.columns.tolist(),class_names=['sativa','hybrid', 'indica'], filled=True)\n",
    "plt.show()"
   ]
  },
  {
   "cell_type": "markdown",
   "metadata": {
    "id": "rdGT4uE2wZSv"
   },
   "source": [
    "One thing that is very evident from this decision tree is that a key determinant for classifying cannabis types is whether or not the strain makes you sleepy or not.  Another big determinant is whether the strain makes you relaxed or uplifted."
   ]
  },
  {
   "cell_type": "markdown",
   "metadata": {
    "id": "2gwCsEVXxKD_"
   },
   "source": [
    "**Q2**\n",
    "\n",
    "Repeat the analyses from Part One for LDA, QDA, and KNN."
   ]
  },
  {
   "cell_type": "code",
   "execution_count": null,
   "metadata": {
    "colab": {
     "base_uri": "https://localhost:8080/"
    },
    "id": "AFfscQO6xPPv",
    "outputId": "b38faae5-a093-4929-d34e-8777a127f11d"
   },
   "outputs": [
    {
     "name": "stdout",
     "output_type": "stream",
     "text": [
      "LDA Accuracy: 0.6290672451193059\n"
     ]
    }
   ],
   "source": [
    "lda_pipeline = Pipeline([\n",
    "  (\"preprocessing\", ct),\n",
    "  (\"LDA\", LinearDiscriminantAnalysis())]\n",
    ")\n",
    "lda_pipeline_fitted = lda_pipeline.fit(X,y)\n",
    "lda_accuracy = cross_val_score(lda_pipeline_fitted, X, y, cv=5, scoring='accuracy').mean()\n",
    "print(f\"LDA Accuracy: {lda_accuracy}\")"
   ]
  },
  {
   "cell_type": "code",
   "execution_count": null,
   "metadata": {
    "colab": {
     "base_uri": "https://localhost:8080/"
    },
    "id": "KR-kI_luxg2o",
    "outputId": "2c10e177-2dc0-4969-ed9d-724d2bf1c2ea"
   },
   "outputs": [
    {
     "name": "stdout",
     "output_type": "stream",
     "text": [
      "LDA Confusion Matrix:\n"
     ]
    },
    {
     "data": {
      "text/plain": [
       "array([[829, 211, 147],\n",
       "       [211, 467,   9],\n",
       "       [224,  21, 186]])"
      ]
     },
     "execution_count": 25,
     "metadata": {},
     "output_type": "execute_result"
    }
   ],
   "source": [
    "y_pred = lda_pipeline_fitted.predict(X)\n",
    "print(\"LDA Confusion Matrix:\")\n",
    "confusion_matrix(y, y_pred)"
   ]
  },
  {
   "cell_type": "code",
   "execution_count": null,
   "metadata": {
    "colab": {
     "base_uri": "https://localhost:8080/"
    },
    "id": "24VhsOihyJo0",
    "outputId": "c5a03dc2-1ead-4538-ff58-2f5a6ecf86ac"
   },
   "outputs": [
    {
     "name": "stderr",
     "output_type": "stream",
     "text": [
      "/usr/local/lib/python3.10/dist-packages/sklearn/discriminant_analysis.py:926: UserWarning: Variables are collinear\n",
      "  warnings.warn(\"Variables are collinear\")\n",
      "/usr/local/lib/python3.10/dist-packages/sklearn/discriminant_analysis.py:926: UserWarning: Variables are collinear\n",
      "  warnings.warn(\"Variables are collinear\")\n",
      "/usr/local/lib/python3.10/dist-packages/sklearn/discriminant_analysis.py:926: UserWarning: Variables are collinear\n",
      "  warnings.warn(\"Variables are collinear\")\n",
      "/usr/local/lib/python3.10/dist-packages/sklearn/discriminant_analysis.py:926: UserWarning: Variables are collinear\n",
      "  warnings.warn(\"Variables are collinear\")\n",
      "/usr/local/lib/python3.10/dist-packages/sklearn/discriminant_analysis.py:926: UserWarning: Variables are collinear\n",
      "  warnings.warn(\"Variables are collinear\")\n",
      "/usr/local/lib/python3.10/dist-packages/sklearn/discriminant_analysis.py:926: UserWarning: Variables are collinear\n",
      "  warnings.warn(\"Variables are collinear\")\n"
     ]
    }
   ],
   "source": [
    "qda_pipeline = Pipeline([\n",
    "  (\"preprocessing\", ct),\n",
    "  (\"QDA\", QuadraticDiscriminantAnalysis())]\n",
    ")\n",
    "\n",
    "qda_pipeline_fitted = qda_pipeline.fit(X,y)\n",
    "qda_accuracy = cross_val_score(qda_pipeline_fitted, X, y, cv=5, scoring='accuracy').mean()"
   ]
  },
  {
   "cell_type": "code",
   "execution_count": null,
   "metadata": {
    "colab": {
     "base_uri": "https://localhost:8080/"
    },
    "id": "-GU02EBbyP1M",
    "outputId": "c5386812-9420-4c26-bc00-a621328cb8ab"
   },
   "outputs": [
    {
     "name": "stdout",
     "output_type": "stream",
     "text": [
      "QDA Accuracy: 0.2134490238611714\n"
     ]
    }
   ],
   "source": [
    "print(f\"QDA Accuracy: {qda_accuracy}\")"
   ]
  },
  {
   "cell_type": "code",
   "execution_count": null,
   "metadata": {
    "colab": {
     "base_uri": "https://localhost:8080/"
    },
    "id": "0Ky_D3m0yQ1u",
    "outputId": "87481815-351c-4a71-f797-53217d1ab149"
   },
   "outputs": [
    {
     "name": "stdout",
     "output_type": "stream",
     "text": [
      "QDA Confusion Matrix:\n"
     ]
    },
    {
     "data": {
      "text/plain": [
       "array([[  21,   12, 1154],\n",
       "       [   6,   26,  655],\n",
       "       [   0,    0,  431]])"
      ]
     },
     "execution_count": 28,
     "metadata": {},
     "output_type": "execute_result"
    }
   ],
   "source": [
    "y_pred = qda_pipeline_fitted.predict(X)\n",
    "print(\"QDA Confusion Matrix:\")\n",
    "confusion_matrix(y, y_pred)"
   ]
  },
  {
   "cell_type": "code",
   "execution_count": null,
   "metadata": {
    "colab": {
     "base_uri": "https://localhost:8080/"
    },
    "id": "lfyBQFIhyV9u",
    "outputId": "c8dc927d-73b3-48e0-b8da-972aa55d10f0"
   },
   "outputs": [
    {
     "name": "stdout",
     "output_type": "stream",
     "text": [
      "Best Accuracy Score: 0.6052060737527115\n",
      "Corresponding K-Value: 80\n"
     ]
    }
   ],
   "source": [
    "knn_pipeline = Pipeline(\n",
    "    [(\"preprocessing\", ct),\n",
    "     (\"knn\", KNeighborsClassifier())]\n",
    ")\n",
    "\n",
    "k_values = [79, 80, 81]\n",
    "k_param = {'knn__n_neighbors': k_values}\n",
    "gscv = GridSearchCV(knn_pipeline, k_param, cv=5, scoring='accuracy')\n",
    "\n",
    "gscv_fitted = gscv.fit(X, y)\n",
    "accuracy_scores = gscv_fitted.cv_results_['mean_test_score']\n",
    "pd.DataFrame(data={\"k values\": k_values, \"Acc scores\": accuracy_scores})\n",
    "\n",
    "best_accuracy = np.max(gscv_fitted.cv_results_['mean_test_score'])\n",
    "best_k_value = gscv_fitted.best_params_['knn__n_neighbors']\n",
    "print(\"Best Accuracy Score:\", best_accuracy)\n",
    "print(\"Corresponding K-Value:\", best_k_value)"
   ]
  },
  {
   "cell_type": "code",
   "execution_count": null,
   "metadata": {
    "colab": {
     "base_uri": "https://localhost:8080/"
    },
    "id": "90kVbVZhy77l",
    "outputId": "8aaf4fa1-2a57-459d-eec6-0a80a69ab1c1"
   },
   "outputs": [
    {
     "name": "stdout",
     "output_type": "stream",
     "text": [
      "KNN Accuracy: 0.6052060737527115\n"
     ]
    }
   ],
   "source": [
    "knn_pipeline = Pipeline(\n",
    "    [(\"preprocessing\", ct),\n",
    "     (\"knn\", KNeighborsClassifier(n_neighbors=80))]\n",
    ")\n",
    "\n",
    "knn_pipeline_fitted = knn_pipeline.fit(X,y)\n",
    "knn_accuracy = cross_val_score(knn_pipeline_fitted, X, y, cv=5, scoring='accuracy').mean()\n",
    "print(f\"KNN Accuracy: {knn_accuracy}\")"
   ]
  },
  {
   "cell_type": "code",
   "execution_count": null,
   "metadata": {
    "colab": {
     "base_uri": "https://localhost:8080/"
    },
    "id": "9CXuEJz4zMvB",
    "outputId": "55ff30c6-7d29-405c-8a28-79031580a8c5"
   },
   "outputs": [
    {
     "name": "stdout",
     "output_type": "stream",
     "text": [
      "KNN Confusion Matrix:\n"
     ]
    },
    {
     "data": {
      "text/plain": [
       "array([[971, 186,  30],\n",
       "       [278, 406,   3],\n",
       "       [369,  18,  44]])"
      ]
     },
     "execution_count": 31,
     "metadata": {},
     "output_type": "execute_result"
    }
   ],
   "source": [
    "y_pred = knn_pipeline_fitted.predict(X)\n",
    "print(\"KNN Confusion Matrix:\")\n",
    "confusion_matrix(y, y_pred)"
   ]
  },
  {
   "cell_type": "markdown",
   "metadata": {
    "id": "hcyEaDD4zfdR"
   },
   "source": [
    "**Q3**\n",
    "\n",
    "Were your metrics better or worse than in Part One? Why? Which categories were most likely to get mixed up, according to the confusion matrices? Why?"
   ]
  },
  {
   "cell_type": "markdown",
   "metadata": {
    "id": "2HR9LzffzjSz"
   },
   "source": [
    "The metrics for this part were worse than Part One.  This makes sense as the first part has a simpler decision boundary, in binary classification, the model only needs to distinguish vbetween 2 classes.  In this model, there are 3 distinguished classes, therefore there are more complex decision boundaries."
   ]
  },
  {
   "cell_type": "markdown",
   "metadata": {
    "id": "UqaHg-LeIHr_"
   },
   "source": [
    "***Part Three: Multiclass from Binary***\n",
    "\n",
    "Consider two models designed for binary classification: SVC and Logistic Regression."
   ]
  },
  {
   "cell_type": "markdown",
   "metadata": {
    "id": "zP0l4xtJIQzr"
   },
   "source": [
    "**Q1**\n",
    "\n",
    "Fit and report metrics for OvR versions of the models. That is, for each of the two model types, create three models:\n",
    "\n",
    "* Indica vs. Not Indica\n",
    "\n",
    "* Sativa vs. Not Sativa\n",
    "\n",
    "* Hybrid vs. Not Hybrid"
   ]
  },
  {
   "cell_type": "code",
   "execution_count": null,
   "metadata": {
    "colab": {
     "base_uri": "https://localhost:8080/",
     "height": 255
    },
    "id": "Iz4lUFsMIbUr",
    "outputId": "cd983b6a-958a-4aa7-b842-94858c6b91e5"
   },
   "outputs": [
    {
     "data": {
      "text/html": [
       "\n",
       "  <div id=\"df-9240a879-cff4-4d7d-8fef-1e28fee3cfc6\" class=\"colab-df-container\">\n",
       "    <div>\n",
       "<style scoped>\n",
       "    .dataframe tbody tr th:only-of-type {\n",
       "        vertical-align: middle;\n",
       "    }\n",
       "\n",
       "    .dataframe tbody tr th {\n",
       "        vertical-align: top;\n",
       "    }\n",
       "\n",
       "    .dataframe thead th {\n",
       "        text-align: right;\n",
       "    }\n",
       "</style>\n",
       "<table border=\"1\" class=\"dataframe\">\n",
       "  <thead>\n",
       "    <tr style=\"text-align: right;\">\n",
       "      <th></th>\n",
       "      <th>Type</th>\n",
       "      <th>Rating</th>\n",
       "      <th>Creative</th>\n",
       "      <th>Energetic</th>\n",
       "      <th>Tingly</th>\n",
       "      <th>Euphoric</th>\n",
       "      <th>Relaxed</th>\n",
       "      <th>Aroused</th>\n",
       "      <th>Happy</th>\n",
       "      <th>Uplifted</th>\n",
       "      <th>...</th>\n",
       "      <th>Fruit</th>\n",
       "      <th>Butter</th>\n",
       "      <th>Pineapple</th>\n",
       "      <th>Tar</th>\n",
       "      <th>Rose</th>\n",
       "      <th>Plum</th>\n",
       "      <th>Pear</th>\n",
       "      <th>Type_is_hybrid</th>\n",
       "      <th>Type_is_indica</th>\n",
       "      <th>Type_is_sativa</th>\n",
       "    </tr>\n",
       "  </thead>\n",
       "  <tbody>\n",
       "    <tr>\n",
       "      <th>0</th>\n",
       "      <td>hybrid</td>\n",
       "      <td>4.0</td>\n",
       "      <td>1.0</td>\n",
       "      <td>1.0</td>\n",
       "      <td>1.0</td>\n",
       "      <td>1.0</td>\n",
       "      <td>1.0</td>\n",
       "      <td>0.0</td>\n",
       "      <td>0.0</td>\n",
       "      <td>0.0</td>\n",
       "      <td>...</td>\n",
       "      <td>0.0</td>\n",
       "      <td>0.0</td>\n",
       "      <td>0.0</td>\n",
       "      <td>0.0</td>\n",
       "      <td>0.0</td>\n",
       "      <td>0.0</td>\n",
       "      <td>0.0</td>\n",
       "      <td>1</td>\n",
       "      <td>0</td>\n",
       "      <td>0</td>\n",
       "    </tr>\n",
       "    <tr>\n",
       "      <th>1</th>\n",
       "      <td>hybrid</td>\n",
       "      <td>4.7</td>\n",
       "      <td>1.0</td>\n",
       "      <td>1.0</td>\n",
       "      <td>0.0</td>\n",
       "      <td>0.0</td>\n",
       "      <td>1.0</td>\n",
       "      <td>1.0</td>\n",
       "      <td>1.0</td>\n",
       "      <td>0.0</td>\n",
       "      <td>...</td>\n",
       "      <td>0.0</td>\n",
       "      <td>0.0</td>\n",
       "      <td>0.0</td>\n",
       "      <td>0.0</td>\n",
       "      <td>0.0</td>\n",
       "      <td>0.0</td>\n",
       "      <td>0.0</td>\n",
       "      <td>1</td>\n",
       "      <td>0</td>\n",
       "      <td>0</td>\n",
       "    </tr>\n",
       "    <tr>\n",
       "      <th>2</th>\n",
       "      <td>sativa</td>\n",
       "      <td>4.4</td>\n",
       "      <td>1.0</td>\n",
       "      <td>1.0</td>\n",
       "      <td>0.0</td>\n",
       "      <td>0.0</td>\n",
       "      <td>1.0</td>\n",
       "      <td>0.0</td>\n",
       "      <td>1.0</td>\n",
       "      <td>1.0</td>\n",
       "      <td>...</td>\n",
       "      <td>0.0</td>\n",
       "      <td>0.0</td>\n",
       "      <td>0.0</td>\n",
       "      <td>0.0</td>\n",
       "      <td>0.0</td>\n",
       "      <td>0.0</td>\n",
       "      <td>0.0</td>\n",
       "      <td>0</td>\n",
       "      <td>0</td>\n",
       "      <td>1</td>\n",
       "    </tr>\n",
       "    <tr>\n",
       "      <th>3</th>\n",
       "      <td>hybrid</td>\n",
       "      <td>4.2</td>\n",
       "      <td>1.0</td>\n",
       "      <td>0.0</td>\n",
       "      <td>1.0</td>\n",
       "      <td>0.0</td>\n",
       "      <td>1.0</td>\n",
       "      <td>0.0</td>\n",
       "      <td>0.0</td>\n",
       "      <td>1.0</td>\n",
       "      <td>...</td>\n",
       "      <td>0.0</td>\n",
       "      <td>0.0</td>\n",
       "      <td>0.0</td>\n",
       "      <td>0.0</td>\n",
       "      <td>0.0</td>\n",
       "      <td>0.0</td>\n",
       "      <td>0.0</td>\n",
       "      <td>1</td>\n",
       "      <td>0</td>\n",
       "      <td>0</td>\n",
       "    </tr>\n",
       "    <tr>\n",
       "      <th>4</th>\n",
       "      <td>hybrid</td>\n",
       "      <td>4.6</td>\n",
       "      <td>0.0</td>\n",
       "      <td>0.0</td>\n",
       "      <td>0.0</td>\n",
       "      <td>1.0</td>\n",
       "      <td>1.0</td>\n",
       "      <td>0.0</td>\n",
       "      <td>1.0</td>\n",
       "      <td>1.0</td>\n",
       "      <td>...</td>\n",
       "      <td>0.0</td>\n",
       "      <td>0.0</td>\n",
       "      <td>0.0</td>\n",
       "      <td>0.0</td>\n",
       "      <td>0.0</td>\n",
       "      <td>0.0</td>\n",
       "      <td>0.0</td>\n",
       "      <td>1</td>\n",
       "      <td>0</td>\n",
       "      <td>0</td>\n",
       "    </tr>\n",
       "  </tbody>\n",
       "</table>\n",
       "<p>5 rows × 69 columns</p>\n",
       "</div>\n",
       "    <div class=\"colab-df-buttons\">\n",
       "\n",
       "  <div class=\"colab-df-container\">\n",
       "    <button class=\"colab-df-convert\" onclick=\"convertToInteractive('df-9240a879-cff4-4d7d-8fef-1e28fee3cfc6')\"\n",
       "            title=\"Convert this dataframe to an interactive table.\"\n",
       "            style=\"display:none;\">\n",
       "\n",
       "  <svg xmlns=\"http://www.w3.org/2000/svg\" height=\"24px\" viewBox=\"0 -960 960 960\">\n",
       "    <path d=\"M120-120v-720h720v720H120Zm60-500h600v-160H180v160Zm220 220h160v-160H400v160Zm0 220h160v-160H400v160ZM180-400h160v-160H180v160Zm440 0h160v-160H620v160ZM180-180h160v-160H180v160Zm440 0h160v-160H620v160Z\"/>\n",
       "  </svg>\n",
       "    </button>\n",
       "\n",
       "  <style>\n",
       "    .colab-df-container {\n",
       "      display:flex;\n",
       "      gap: 12px;\n",
       "    }\n",
       "\n",
       "    .colab-df-convert {\n",
       "      background-color: #E8F0FE;\n",
       "      border: none;\n",
       "      border-radius: 50%;\n",
       "      cursor: pointer;\n",
       "      display: none;\n",
       "      fill: #1967D2;\n",
       "      height: 32px;\n",
       "      padding: 0 0 0 0;\n",
       "      width: 32px;\n",
       "    }\n",
       "\n",
       "    .colab-df-convert:hover {\n",
       "      background-color: #E2EBFA;\n",
       "      box-shadow: 0px 1px 2px rgba(60, 64, 67, 0.3), 0px 1px 3px 1px rgba(60, 64, 67, 0.15);\n",
       "      fill: #174EA6;\n",
       "    }\n",
       "\n",
       "    .colab-df-buttons div {\n",
       "      margin-bottom: 4px;\n",
       "    }\n",
       "\n",
       "    [theme=dark] .colab-df-convert {\n",
       "      background-color: #3B4455;\n",
       "      fill: #D2E3FC;\n",
       "    }\n",
       "\n",
       "    [theme=dark] .colab-df-convert:hover {\n",
       "      background-color: #434B5C;\n",
       "      box-shadow: 0px 1px 3px 1px rgba(0, 0, 0, 0.15);\n",
       "      filter: drop-shadow(0px 1px 2px rgba(0, 0, 0, 0.3));\n",
       "      fill: #FFFFFF;\n",
       "    }\n",
       "  </style>\n",
       "\n",
       "    <script>\n",
       "      const buttonEl =\n",
       "        document.querySelector('#df-9240a879-cff4-4d7d-8fef-1e28fee3cfc6 button.colab-df-convert');\n",
       "      buttonEl.style.display =\n",
       "        google.colab.kernel.accessAllowed ? 'block' : 'none';\n",
       "\n",
       "      async function convertToInteractive(key) {\n",
       "        const element = document.querySelector('#df-9240a879-cff4-4d7d-8fef-1e28fee3cfc6');\n",
       "        const dataTable =\n",
       "          await google.colab.kernel.invokeFunction('convertToInteractive',\n",
       "                                                    [key], {});\n",
       "        if (!dataTable) return;\n",
       "\n",
       "        const docLinkHtml = 'Like what you see? Visit the ' +\n",
       "          '<a target=\"_blank\" href=https://colab.research.google.com/notebooks/data_table.ipynb>data table notebook</a>'\n",
       "          + ' to learn more about interactive tables.';\n",
       "        element.innerHTML = '';\n",
       "        dataTable['output_type'] = 'display_data';\n",
       "        await google.colab.output.renderOutput(dataTable, element);\n",
       "        const docLink = document.createElement('div');\n",
       "        docLink.innerHTML = docLinkHtml;\n",
       "        element.appendChild(docLink);\n",
       "      }\n",
       "    </script>\n",
       "  </div>\n",
       "\n",
       "\n",
       "<div id=\"df-95c5c16b-1491-4988-aa0b-963899cc643f\">\n",
       "  <button class=\"colab-df-quickchart\" onclick=\"quickchart('df-95c5c16b-1491-4988-aa0b-963899cc643f')\"\n",
       "            title=\"Suggest charts\"\n",
       "            style=\"display:none;\">\n",
       "\n",
       "<svg xmlns=\"http://www.w3.org/2000/svg\" height=\"24px\"viewBox=\"0 0 24 24\"\n",
       "     width=\"24px\">\n",
       "    <g>\n",
       "        <path d=\"M19 3H5c-1.1 0-2 .9-2 2v14c0 1.1.9 2 2 2h14c1.1 0 2-.9 2-2V5c0-1.1-.9-2-2-2zM9 17H7v-7h2v7zm4 0h-2V7h2v10zm4 0h-2v-4h2v4z\"/>\n",
       "    </g>\n",
       "</svg>\n",
       "  </button>\n",
       "\n",
       "<style>\n",
       "  .colab-df-quickchart {\n",
       "      --bg-color: #E8F0FE;\n",
       "      --fill-color: #1967D2;\n",
       "      --hover-bg-color: #E2EBFA;\n",
       "      --hover-fill-color: #174EA6;\n",
       "      --disabled-fill-color: #AAA;\n",
       "      --disabled-bg-color: #DDD;\n",
       "  }\n",
       "\n",
       "  [theme=dark] .colab-df-quickchart {\n",
       "      --bg-color: #3B4455;\n",
       "      --fill-color: #D2E3FC;\n",
       "      --hover-bg-color: #434B5C;\n",
       "      --hover-fill-color: #FFFFFF;\n",
       "      --disabled-bg-color: #3B4455;\n",
       "      --disabled-fill-color: #666;\n",
       "  }\n",
       "\n",
       "  .colab-df-quickchart {\n",
       "    background-color: var(--bg-color);\n",
       "    border: none;\n",
       "    border-radius: 50%;\n",
       "    cursor: pointer;\n",
       "    display: none;\n",
       "    fill: var(--fill-color);\n",
       "    height: 32px;\n",
       "    padding: 0;\n",
       "    width: 32px;\n",
       "  }\n",
       "\n",
       "  .colab-df-quickchart:hover {\n",
       "    background-color: var(--hover-bg-color);\n",
       "    box-shadow: 0 1px 2px rgba(60, 64, 67, 0.3), 0 1px 3px 1px rgba(60, 64, 67, 0.15);\n",
       "    fill: var(--button-hover-fill-color);\n",
       "  }\n",
       "\n",
       "  .colab-df-quickchart-complete:disabled,\n",
       "  .colab-df-quickchart-complete:disabled:hover {\n",
       "    background-color: var(--disabled-bg-color);\n",
       "    fill: var(--disabled-fill-color);\n",
       "    box-shadow: none;\n",
       "  }\n",
       "\n",
       "  .colab-df-spinner {\n",
       "    border: 2px solid var(--fill-color);\n",
       "    border-color: transparent;\n",
       "    border-bottom-color: var(--fill-color);\n",
       "    animation:\n",
       "      spin 1s steps(1) infinite;\n",
       "  }\n",
       "\n",
       "  @keyframes spin {\n",
       "    0% {\n",
       "      border-color: transparent;\n",
       "      border-bottom-color: var(--fill-color);\n",
       "      border-left-color: var(--fill-color);\n",
       "    }\n",
       "    20% {\n",
       "      border-color: transparent;\n",
       "      border-left-color: var(--fill-color);\n",
       "      border-top-color: var(--fill-color);\n",
       "    }\n",
       "    30% {\n",
       "      border-color: transparent;\n",
       "      border-left-color: var(--fill-color);\n",
       "      border-top-color: var(--fill-color);\n",
       "      border-right-color: var(--fill-color);\n",
       "    }\n",
       "    40% {\n",
       "      border-color: transparent;\n",
       "      border-right-color: var(--fill-color);\n",
       "      border-top-color: var(--fill-color);\n",
       "    }\n",
       "    60% {\n",
       "      border-color: transparent;\n",
       "      border-right-color: var(--fill-color);\n",
       "    }\n",
       "    80% {\n",
       "      border-color: transparent;\n",
       "      border-right-color: var(--fill-color);\n",
       "      border-bottom-color: var(--fill-color);\n",
       "    }\n",
       "    90% {\n",
       "      border-color: transparent;\n",
       "      border-bottom-color: var(--fill-color);\n",
       "    }\n",
       "  }\n",
       "</style>\n",
       "\n",
       "  <script>\n",
       "    async function quickchart(key) {\n",
       "      const quickchartButtonEl =\n",
       "        document.querySelector('#' + key + ' button');\n",
       "      quickchartButtonEl.disabled = true;  // To prevent multiple clicks.\n",
       "      quickchartButtonEl.classList.add('colab-df-spinner');\n",
       "      try {\n",
       "        const charts = await google.colab.kernel.invokeFunction(\n",
       "            'suggestCharts', [key], {});\n",
       "      } catch (error) {\n",
       "        console.error('Error during call to suggestCharts:', error);\n",
       "      }\n",
       "      quickchartButtonEl.classList.remove('colab-df-spinner');\n",
       "      quickchartButtonEl.classList.add('colab-df-quickchart-complete');\n",
       "    }\n",
       "    (() => {\n",
       "      let quickchartButtonEl =\n",
       "        document.querySelector('#df-95c5c16b-1491-4988-aa0b-963899cc643f button');\n",
       "      quickchartButtonEl.style.display =\n",
       "        google.colab.kernel.accessAllowed ? 'block' : 'none';\n",
       "    })();\n",
       "  </script>\n",
       "</div>\n",
       "    </div>\n",
       "  </div>\n"
      ],
      "text/plain": [
       "     Type  Rating  Creative  Energetic  Tingly  Euphoric  Relaxed  Aroused  \\\n",
       "0  hybrid     4.0       1.0        1.0     1.0       1.0      1.0      0.0   \n",
       "1  hybrid     4.7       1.0        1.0     0.0       0.0      1.0      1.0   \n",
       "2  sativa     4.4       1.0        1.0     0.0       0.0      1.0      0.0   \n",
       "3  hybrid     4.2       1.0        0.0     1.0       0.0      1.0      0.0   \n",
       "4  hybrid     4.6       0.0        0.0     0.0       1.0      1.0      0.0   \n",
       "\n",
       "   Happy  Uplifted  ...  Fruit  Butter  Pineapple  Tar  Rose  Plum  Pear  \\\n",
       "0    0.0       0.0  ...    0.0     0.0        0.0  0.0   0.0   0.0   0.0   \n",
       "1    1.0       0.0  ...    0.0     0.0        0.0  0.0   0.0   0.0   0.0   \n",
       "2    1.0       1.0  ...    0.0     0.0        0.0  0.0   0.0   0.0   0.0   \n",
       "3    0.0       1.0  ...    0.0     0.0        0.0  0.0   0.0   0.0   0.0   \n",
       "4    1.0       1.0  ...    0.0     0.0        0.0  0.0   0.0   0.0   0.0   \n",
       "\n",
       "   Type_is_hybrid  Type_is_indica  Type_is_sativa  \n",
       "0               1               0               0  \n",
       "1               1               0               0  \n",
       "2               0               0               1  \n",
       "3               1               0               0  \n",
       "4               1               0               0  \n",
       "\n",
       "[5 rows x 69 columns]"
      ]
     },
     "execution_count": 32,
     "metadata": {},
     "output_type": "execute_result"
    }
   ],
   "source": [
    "dummies = pd.get_dummies(weed['Type'], prefix = \"Type_is\")\n",
    "weed = weed.join(dummies)\n",
    "weed.head()"
   ]
  },
  {
   "cell_type": "markdown",
   "metadata": {
    "id": "5d36yjZCK1x_"
   },
   "source": [
    "**Indica vs. Not Indica**"
   ]
  },
  {
   "cell_type": "code",
   "execution_count": null,
   "metadata": {
    "colab": {
     "base_uri": "https://localhost:8080/"
    },
    "id": "_SeeUaaKJnjO",
    "outputId": "aa6dd888-b13c-4ca8-832f-66e1489dc960"
   },
   "outputs": [
    {
     "name": "stdout",
     "output_type": "stream",
     "text": [
      "Indica vs. Not Indica Logistic Regression F1 Score: 0.7464307015675271\n"
     ]
    }
   ],
   "source": [
    "X = weed.drop(['Type', 'Type_is_hybrid', 'Type_is_indica', 'Type_is_sativa'], axis=1)\n",
    "y = weed['Type_is_indica']\n",
    "lr_pipeline = Pipeline([\n",
    "    (\"preprocessing\", ct),\n",
    "    (\"logistic_regression\", LogisticRegression(max_iter=1000))\n",
    "])\n",
    "\n",
    "lr_pipeline_indica = lr_pipeline.fit(X,y)\n",
    "\n",
    "lr_f1_indica = cross_val_score(lr_pipeline_indica, X, y, cv=5, scoring='f1_macro').mean()\n",
    "print(f\"Indica vs. Not Indica Logistic Regression F1 Score: {lr_f1_indica}\")"
   ]
  },
  {
   "cell_type": "code",
   "execution_count": null,
   "metadata": {
    "colab": {
     "base_uri": "https://localhost:8080/"
    },
    "id": "EjKLKoCgL_CN",
    "outputId": "159ea8b5-588e-4a39-b637-b4f17e2576e2"
   },
   "outputs": [
    {
     "name": "stdout",
     "output_type": "stream",
     "text": [
      "Best F1 Macro Score: 0.748788995123985\n",
      "Corresponding C-Value: 4\n"
     ]
    }
   ],
   "source": [
    "svc_pipeline = Pipeline([\n",
    "    (\"preprocessing\", ct),\n",
    "    (\"svc\", SVC())])\n",
    "\n",
    "c_values = [3,4,5]\n",
    "c_param = {'svc__C': c_values}\n",
    "gscv = GridSearchCV(svc_pipeline, c_param, cv = 5, scoring='f1_macro')\n",
    "\n",
    "gscv_fitted = gscv.fit(X,y)\n",
    "best_accuracy = np.max(gscv_fitted.cv_results_['mean_test_score'])\n",
    "best_c_value = gscv_fitted.best_params_['svc__C']\n",
    "print(\"Best F1 Macro Score:\", best_accuracy)\n",
    "print(\"Corresponding C-Value:\", best_c_value)"
   ]
  },
  {
   "cell_type": "code",
   "execution_count": null,
   "metadata": {
    "colab": {
     "base_uri": "https://localhost:8080/"
    },
    "id": "8b_Dk6sRMl-8",
    "outputId": "7a22ff92-c95f-4457-9662-79d915a56101"
   },
   "outputs": [
    {
     "name": "stdout",
     "output_type": "stream",
     "text": [
      "Indica vs. Not Indica SVC F1 Score: 0.748788995123985\n"
     ]
    }
   ],
   "source": [
    "svc_pipeline = Pipeline([\n",
    "    (\"preprocessing\", ct),\n",
    "    (\"svc\", SVC(C=4))])\n",
    "\n",
    "svc_f1_indica = cross_val_score(svc_pipeline, X, y, cv=5, scoring='f1_macro').mean()\n",
    "print(f\"Indica vs. Not Indica SVC F1 Score: {svc_f1_indica}\")"
   ]
  },
  {
   "cell_type": "markdown",
   "metadata": {
    "id": "DAZTuuVYLFCZ"
   },
   "source": [
    "**Sativa vs. Not Sativa**"
   ]
  },
  {
   "cell_type": "code",
   "execution_count": null,
   "metadata": {
    "colab": {
     "base_uri": "https://localhost:8080/"
    },
    "id": "aE1rqn5YK-Jv",
    "outputId": "53ce8090-de93-47bf-def5-0be0b1273611"
   },
   "outputs": [
    {
     "name": "stdout",
     "output_type": "stream",
     "text": [
      "Sativa vs. Not Sativa Logistic Regression F1 Score: 0.6458088347148756\n"
     ]
    }
   ],
   "source": [
    "X = weed.drop(['Type', 'Type_is_hybrid', 'Type_is_indica', 'Type_is_sativa'], axis=1)\n",
    "y = weed['Type_is_sativa']\n",
    "\n",
    "lr_pipeline_sativa = lr_pipeline.fit(X,y)\n",
    "\n",
    "lr_f1_sativa = cross_val_score(lr_pipeline_sativa, X, y, cv=5, scoring='f1_macro').mean()\n",
    "print(f\"Sativa vs. Not Sativa Logistic Regression F1 Score: {lr_f1_sativa}\")"
   ]
  },
  {
   "cell_type": "code",
   "execution_count": null,
   "metadata": {
    "colab": {
     "base_uri": "https://localhost:8080/"
    },
    "id": "vzFdBJ2PNrOV",
    "outputId": "2a12df00-cb10-42e6-d0a5-b06e5b9e0488"
   },
   "outputs": [
    {
     "name": "stdout",
     "output_type": "stream",
     "text": [
      "Best F1 Macro Score: 0.6539918876665914\n",
      "Corresponding C-Value: 15\n"
     ]
    }
   ],
   "source": [
    "svc_pipeline = Pipeline([\n",
    "    (\"preprocessing\", ct),\n",
    "    (\"svc\", SVC())])\n",
    "\n",
    "c_values = [14,15,16]\n",
    "c_param = {'svc__C': c_values}\n",
    "gscv = GridSearchCV(svc_pipeline, c_param, cv = 5, scoring='f1_macro')\n",
    "\n",
    "gscv_fitted = gscv.fit(X,y)\n",
    "best_accuracy = np.max(gscv_fitted.cv_results_['mean_test_score'])\n",
    "best_c_value = gscv_fitted.best_params_['svc__C']\n",
    "print(\"Best F1 Macro Score:\", best_accuracy)\n",
    "print(\"Corresponding C-Value:\", best_c_value)"
   ]
  },
  {
   "cell_type": "code",
   "execution_count": null,
   "metadata": {
    "colab": {
     "base_uri": "https://localhost:8080/"
    },
    "id": "BvbILrm1kMX6",
    "outputId": "16ec60c0-e4ae-4f45-c589-aff98672d41b"
   },
   "outputs": [
    {
     "name": "stdout",
     "output_type": "stream",
     "text": [
      "Sativa vs. Not Sativa SVC F1 Score: 0.6539918876665914\n"
     ]
    }
   ],
   "source": [
    "svc_pipeline = Pipeline([\n",
    "    (\"preprocessing\", ct),\n",
    "    (\"svc\", SVC(C=15))])\n",
    "\n",
    "svc_f1_sativa = cross_val_score(svc_pipeline, X, y, cv=5, scoring='f1_macro').mean()\n",
    "print(f\"Sativa vs. Not Sativa SVC F1 Score: {svc_f1_sativa}\")"
   ]
  },
  {
   "cell_type": "markdown",
   "metadata": {
    "id": "8zn9XVLVLcPH"
   },
   "source": [
    "**Hybrid vs. Not Hybrid**"
   ]
  },
  {
   "cell_type": "code",
   "execution_count": null,
   "metadata": {
    "colab": {
     "base_uri": "https://localhost:8080/"
    },
    "id": "RzX2l-wdLZkT",
    "outputId": "13f355ba-ae0f-42bb-d1cd-7c6a468aabf0"
   },
   "outputs": [
    {
     "name": "stdout",
     "output_type": "stream",
     "text": [
      "Hybrid vs. Not Hybrid Logistic Regression F1 Score: 0.6146536090721264\n"
     ]
    }
   ],
   "source": [
    "X = weed.drop(['Type', 'Type_is_hybrid', 'Type_is_indica', 'Type_is_sativa'], axis=1)\n",
    "y = weed['Type_is_hybrid']\n",
    "\n",
    "lr_pipeline_hybrid = lr_pipeline.fit(X,y)\n",
    "\n",
    "lr_f1_hybrid = cross_val_score(lr_pipeline_hybrid, X, y, cv=5, scoring='f1_macro').mean()\n",
    "print(f\"Hybrid vs. Not Hybrid Logistic Regression F1 Score: {lr_f1_hybrid}\")"
   ]
  },
  {
   "cell_type": "code",
   "execution_count": null,
   "metadata": {
    "colab": {
     "base_uri": "https://localhost:8080/"
    },
    "id": "euNOTtVmkzJm",
    "outputId": "dc1de66a-58fd-4c4d-a3f1-e319a870b66e"
   },
   "outputs": [
    {
     "name": "stdout",
     "output_type": "stream",
     "text": [
      "Best F1 Macro Score: 0.6320764171469142\n",
      "Corresponding C-Value: 4\n"
     ]
    }
   ],
   "source": [
    "svc_pipeline = Pipeline([\n",
    "    (\"preprocessing\", ct),\n",
    "    (\"svc\", SVC())])\n",
    "\n",
    "c_values = [3,4,5]\n",
    "c_param = {'svc__C': c_values}\n",
    "gscv = GridSearchCV(svc_pipeline, c_param, cv = 5, scoring='f1_macro')\n",
    "\n",
    "gscv_fitted = gscv.fit(X,y)\n",
    "best_accuracy = np.max(gscv_fitted.cv_results_['mean_test_score'])\n",
    "best_c_value = gscv_fitted.best_params_['svc__C']\n",
    "print(\"Best F1 Macro Score:\", best_accuracy)\n",
    "print(\"Corresponding C-Value:\", best_c_value)"
   ]
  },
  {
   "cell_type": "code",
   "execution_count": null,
   "metadata": {
    "colab": {
     "base_uri": "https://localhost:8080/"
    },
    "id": "RnU3sOUnlG8s",
    "outputId": "7310fd09-de19-4fe3-a607-1d526c1bb4e4"
   },
   "outputs": [
    {
     "name": "stdout",
     "output_type": "stream",
     "text": [
      "Hybrid vs. Not Hybrid SVC F1 Score: 0.6320764171469142\n"
     ]
    }
   ],
   "source": [
    "svc_pipeline = Pipeline([\n",
    "    (\"preprocessing\", ct),\n",
    "    (\"svc\", SVC(C=4))])\n",
    "\n",
    "svc_f1_hybrid = cross_val_score(svc_pipeline, X, y, cv=5, scoring='f1_macro').mean()\n",
    "print(f\"Hybrid vs. Not Hybrid SVC F1 Score: {svc_f1_hybrid}\")"
   ]
  },
  {
   "cell_type": "markdown",
   "metadata": {
    "id": "0Xq0hVgmLoZV"
   },
   "source": [
    "**Q2**\n",
    "\n",
    "Which of the six models did the best job distinguishing the target category from the rest? Which did the worst? Does this make intuitive sense?"
   ]
  },
  {
   "cell_type": "markdown",
   "metadata": {
    "id": "9zY0ENvlpVSb"
   },
   "source": [
    "The model that performed the best was the SVC model for the Indica vs. Not Indica.  The one that performed the worst was the logistic regression model for the Hybrid vs. Not Hybrid.  I'm not entirely sure this makes intuitive sense because \"Hybrid\" has a mix of the effects of hybrid and sativa, so I've heard, which I would think would make it more challenging than the sativa and indica models."
   ]
  },
  {
   "cell_type": "markdown",
   "metadata": {
    "id": "iwd5F2tpsixE"
   },
   "source": [
    "**Q3**\n",
    "\n",
    "Fit and report metrics for OvO versions of the models. That is, for each of the two model types, create three models:"
   ]
  },
  {
   "cell_type": "code",
   "execution_count": null,
   "metadata": {
    "id": "bazQwK8gsmrl"
   },
   "outputs": [],
   "source": [
    "weed = weed.drop(['Type_is_hybrid', 'Type_is_indica', 'Type_is_sativa'], axis =1)"
   ]
  },
  {
   "cell_type": "markdown",
   "metadata": {
    "id": "EFBhTKqEsv2W"
   },
   "source": [
    "**Indica vs. Sativa**"
   ]
  },
  {
   "cell_type": "code",
   "execution_count": 205,
   "metadata": {
    "id": "4LgDLElZssMz"
   },
   "outputs": [],
   "source": [
    "weed_reduced = weed[weed['Type'].isin(['sativa', 'indica'])]\n",
    "X = weed_reduced.drop(['Type'], axis = 1)\n",
    "y = weed_reduced['Type']"
   ]
  },
  {
   "cell_type": "code",
   "execution_count": 206,
   "metadata": {
    "colab": {
     "base_uri": "https://localhost:8080/"
    },
    "id": "FPZNjrtUt-Im",
    "outputId": "4fa0354b-b059-4139-cf1d-64bbc84d1fcc"
   },
   "outputs": [
    {
     "name": "stdout",
     "output_type": "stream",
     "text": [
      "Best F1 Macro Score: 0.8443520488492811\n",
      "Corresponding C-Value: 8\n"
     ]
    }
   ],
   "source": [
    "svc_pipeline = Pipeline([\n",
    "    (\"preprocessing\", ct),\n",
    "    (\"svc\", SVC())])\n",
    "\n",
    "c_values = [7,8,9]\n",
    "c_param = {'svc__C': c_values}\n",
    "gscv = GridSearchCV(svc_pipeline, c_param, cv = 5, scoring='f1_macro')\n",
    "\n",
    "gscv_fitted = gscv.fit(X,y)\n",
    "best_accuracy = np.max(gscv_fitted.cv_results_['mean_test_score'])\n",
    "best_c_value = gscv_fitted.best_params_['svc__C']\n",
    "print(\"Best F1 Macro Score:\", best_accuracy)\n",
    "print(\"Corresponding C-Value:\", best_c_value)"
   ]
  },
  {
   "cell_type": "code",
   "execution_count": 207,
   "metadata": {
    "colab": {
     "base_uri": "https://localhost:8080/"
    },
    "id": "jwYNSkNju7Hn",
    "outputId": "d4049a93-166c-4803-93cb-e35e30f586bd"
   },
   "outputs": [
    {
     "name": "stdout",
     "output_type": "stream",
     "text": [
      "Indica vs. Sativa SVC F1 Score: 0.8443520488492811\n"
     ]
    }
   ],
   "source": [
    "svc_pipeline = Pipeline([\n",
    "    (\"preprocessing\", ct),\n",
    "    (\"svc\", SVC(C=8))])\n",
    "\n",
    "svc_f1 = cross_val_score(svc_pipeline, X, y, cv=5, scoring='f1_macro').mean()\n",
    "print(f\"Indica vs. Sativa SVC F1 Score: {svc_f1}\")"
   ]
  },
  {
   "cell_type": "code",
   "execution_count": 208,
   "metadata": {
    "colab": {
     "base_uri": "https://localhost:8080/"
    },
    "id": "UJt0bf0CvEBp",
    "outputId": "5844e0e9-69d8-413b-ae4a-d95db4f52064"
   },
   "outputs": [
    {
     "name": "stdout",
     "output_type": "stream",
     "text": [
      "Indica vs. Sativa Logistic Regression F1 Score: 0.8353581145277355\n"
     ]
    }
   ],
   "source": [
    "lr_pipeline = Pipeline([\n",
    "    (\"preprocessing\", ct),\n",
    "    (\"logistic_regression\", LogisticRegression(max_iter=1000))\n",
    "])\n",
    "\n",
    "lr_pipeline = lr_pipeline.fit(X,y)\n",
    "\n",
    "lr_f1 = cross_val_score(lr_pipeline, X, y, cv=5, scoring='f1_macro').mean()\n",
    "print(f\"Indica vs. Sativa Logistic Regression F1 Score: {lr_f1}\")"
   ]
  },
  {
   "cell_type": "markdown",
   "metadata": {
    "id": "tT7dC9rCvVsb"
   },
   "source": [
    "**Indica vs. Hybrid**"
   ]
  },
  {
   "cell_type": "code",
   "execution_count": 209,
   "metadata": {
    "id": "5oKylN7Qvacv"
   },
   "outputs": [],
   "source": [
    "weed_reduced2 = weed[weed['Type'].isin(['hybrid', 'indica'])]\n",
    "X = weed_reduced2.drop(['Type'], axis = 1)\n",
    "y = weed_reduced2['Type']"
   ]
  },
  {
   "cell_type": "code",
   "execution_count": 210,
   "metadata": {
    "colab": {
     "base_uri": "https://localhost:8080/"
    },
    "id": "9FGz5y6Cvfs7",
    "outputId": "2383e85e-a62c-4318-90c6-23a84b9ac94d"
   },
   "outputs": [
    {
     "name": "stdout",
     "output_type": "stream",
     "text": [
      "Best F1 Macro Score: 0.7344088217124256\n",
      "Corresponding C-Value: 4\n"
     ]
    }
   ],
   "source": [
    "svc_pipeline = Pipeline([\n",
    "    (\"preprocessing\", ct),\n",
    "    (\"svc\", SVC())])\n",
    "\n",
    "c_values = [1,2,3,4,5]\n",
    "c_param = {'svc__C': c_values}\n",
    "gscv = GridSearchCV(svc_pipeline, c_param, cv = 5, scoring='f1_macro')\n",
    "\n",
    "gscv_fitted = gscv.fit(X,y)\n",
    "best_accuracy = np.max(gscv_fitted.cv_results_['mean_test_score'])\n",
    "best_c_value = gscv_fitted.best_params_['svc__C']\n",
    "print(\"Best F1 Macro Score:\", best_accuracy)\n",
    "print(\"Corresponding C-Value:\", best_c_value)"
   ]
  },
  {
   "cell_type": "code",
   "execution_count": 211,
   "metadata": {
    "colab": {
     "base_uri": "https://localhost:8080/"
    },
    "id": "cKkN7HjJvrV8",
    "outputId": "8f4e1ff1-2588-4b7d-f6ff-3edd0cc2dc87"
   },
   "outputs": [
    {
     "name": "stdout",
     "output_type": "stream",
     "text": [
      "Indica vs. Hybrid SVC F1 Score: 0.7344088217124256\n"
     ]
    }
   ],
   "source": [
    "svc_pipeline = Pipeline([\n",
    "    (\"preprocessing\", ct),\n",
    "    (\"svc\", SVC(C=4))])\n",
    "\n",
    "svc_f1 = cross_val_score(svc_pipeline, X, y, cv=5, scoring='f1_macro').mean()\n",
    "print(f\"Indica vs. Hybrid SVC F1 Score: {svc_f1}\")"
   ]
  },
  {
   "cell_type": "code",
   "execution_count": 212,
   "metadata": {
    "colab": {
     "base_uri": "https://localhost:8080/"
    },
    "id": "9H_XPk7vxkdt",
    "outputId": "076d8a38-5a66-48fd-9bc4-174892b8228a"
   },
   "outputs": [
    {
     "name": "stdout",
     "output_type": "stream",
     "text": [
      "Indica vs. Sativa Logistic Regression F1 Score: 0.7292482813727268\n"
     ]
    }
   ],
   "source": [
    "lr_pipeline = Pipeline([\n",
    "    (\"preprocessing\", ct),\n",
    "    (\"logistic_regression\", LogisticRegression(max_iter=1000))\n",
    "])\n",
    "\n",
    "lr_pipeline = lr_pipeline.fit(X,y)\n",
    "\n",
    "lr_f1 = cross_val_score(lr_pipeline, X, y, cv=5, scoring='f1_macro').mean()\n",
    "print(f\"Indica vs. Sativa Logistic Regression F1 Score: {lr_f1}\")"
   ]
  },
  {
   "cell_type": "markdown",
   "metadata": {
    "id": "LdI3PtLJxACd"
   },
   "source": [
    "**Hybrid vs. Sativa**"
   ]
  },
  {
   "cell_type": "code",
   "execution_count": 213,
   "metadata": {
    "id": "aevKhTAowhuG"
   },
   "outputs": [],
   "source": [
    "weed_reduced3 = weed[weed['Type'].isin(['hybrid', 'sativa'])]\n",
    "X = weed_reduced3.drop(['Type'], axis = 1)\n",
    "y = weed_reduced3['Type']"
   ]
  },
  {
   "cell_type": "code",
   "execution_count": 215,
   "metadata": {
    "colab": {
     "base_uri": "https://localhost:8080/"
    },
    "id": "H5RWJYqqxHBh",
    "outputId": "7b8828b2-906a-4363-9ecd-bdd86f5de481"
   },
   "outputs": [
    {
     "name": "stdout",
     "output_type": "stream",
     "text": [
      "Best F1 Macro Score: 0.6406203567844715\n",
      "Corresponding C-Value: 14\n"
     ]
    }
   ],
   "source": [
    "svc_pipeline = Pipeline([\n",
    "    (\"preprocessing\", ct),\n",
    "    (\"svc\", SVC())])\n",
    "\n",
    "c_values = [13,14,15]\n",
    "c_param = {'svc__C': c_values}\n",
    "gscv = GridSearchCV(svc_pipeline, c_param, cv = 5, scoring='f1_macro')\n",
    "\n",
    "gscv_fitted = gscv.fit(X,y)\n",
    "best_accuracy = np.max(gscv_fitted.cv_results_['mean_test_score'])\n",
    "best_c_value = gscv_fitted.best_params_['svc__C']\n",
    "print(\"Best F1 Macro Score:\", best_accuracy)\n",
    "print(\"Corresponding C-Value:\", best_c_value)"
   ]
  },
  {
   "cell_type": "code",
   "execution_count": 218,
   "metadata": {
    "colab": {
     "base_uri": "https://localhost:8080/"
    },
    "id": "-jJ8CvDaxci2",
    "outputId": "e802d16d-a8ca-4b20-899a-a9181e7b8940"
   },
   "outputs": [
    {
     "name": "stdout",
     "output_type": "stream",
     "text": [
      "Hybrid vs. sativa SVC F1 Score: 0.6406203567844715\n"
     ]
    }
   ],
   "source": [
    "svc_pipeline = Pipeline([\n",
    "    (\"preprocessing\", ct),\n",
    "    (\"svm\", SVC(C=14))])\n",
    "\n",
    "svc_f1 = cross_val_score(svc_pipeline, X, y, cv=5, scoring='f1_macro').mean()\n",
    "print(f\"Hybrid vs. sativa SVC F1 Score: {svc_f1}\")"
   ]
  },
  {
   "cell_type": "code",
   "execution_count": 219,
   "metadata": {
    "colab": {
     "base_uri": "https://localhost:8080/"
    },
    "id": "q-cUTtWAxmL2",
    "outputId": "d3e17700-24be-4c0e-c87d-401a70f1791c"
   },
   "outputs": [
    {
     "name": "stdout",
     "output_type": "stream",
     "text": [
      "Hybrid vs. Sativa Logistic Regression F1 Score: 0.6217984729553228\n"
     ]
    }
   ],
   "source": [
    "lr_pipeline = Pipeline([\n",
    "    (\"preprocessing\", ct),\n",
    "    (\"logistic_regression\", LogisticRegression(max_iter=1000))\n",
    "])\n",
    "\n",
    "lr_pipeline = lr_pipeline.fit(X,y)\n",
    "\n",
    "lr_f1 = cross_val_score(lr_pipeline, X, y, cv=5, scoring='f1_macro').mean()\n",
    "print(f\"Hybrid vs. Sativa Logistic Regression F1 Score: {lr_f1}\")"
   ]
  },
  {
   "cell_type": "markdown",
   "metadata": {
    "id": "fxGKSPNHx3Bj"
   },
   "source": [
    "**Q4**\n",
    "\n",
    "Which of the six models did the best job distinguishing at differentiating the two groups? Which did the worst? Does this make intuitive sense?"
   ]
  },
  {
   "cell_type": "markdown",
   "metadata": {
    "id": "5gtAc1vvx6ol"
   },
   "source": [
    "The model that performed the best was the Indica vs. Sativa SVC model.  The model that performed the worst was the Hybrid vs. Sativa logistic regression model.  It makes sense that the Indica vs. Sativa SVC model performed best because Sativa and Indica have the most vast differences.  It makes sense that hybrid vs. sativa logistic regression model did the worst because they are likley the least alike."
   ]
  },
  {
   "cell_type": "markdown",
   "metadata": {
    "id": "JUo9Fspq4cml"
   },
   "source": [
    "**Q5**\n",
    "\n",
    "Suppose you had simply input the full data, with three classes, into the LogisticRegression function. Would this have automatically taken an “OvO” approach or an “OvR” approach?\n",
    "\n",
    "What about for SVC?"
   ]
  },
  {
   "cell_type": "markdown",
   "metadata": {
    "id": "sOosXjBH4gcV"
   },
   "source": [
    "For Logistic Regression, when dealing with a multi-class classification problem, the default strategy is the OvR approach.  The SVC model adopts a different strategy by default. SVC uses the OvO approach for multi-class classification."
   ]
  }
 ],
 "metadata": {
  "colab": {
   "provenance": []
  },
  "kernelspec": {
   "display_name": "Python 3",
   "language": "python",
   "name": "python3"
  },
  "language_info": {
   "codemirror_mode": {
    "name": "ipython",
    "version": 3
   },
   "file_extension": ".py",
   "mimetype": "text/x-python",
   "name": "python",
   "nbconvert_exporter": "python",
   "pygments_lexer": "ipython3",
   "version": "3.8.8"
  }
 },
 "nbformat": 4,
 "nbformat_minor": 1
}
